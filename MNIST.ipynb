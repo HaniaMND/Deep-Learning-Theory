{
  "nbformat": 4,
  "nbformat_minor": 0,
  "metadata": {
    "colab": {
      "provenance": []
    },
    "kernelspec": {
      "name": "python3",
      "display_name": "Python 3"
    },
    "language_info": {
      "name": "python"
    }
  },
  "cells": [
    {
      "cell_type": "code",
      "execution_count": null,
      "metadata": {
        "id": "iwK7CETUInOk"
      },
      "outputs": [],
      "source": [
        "import numpy as np\n",
        "import tensorflow as tf\n",
        "import matplotlib.pyplot as plt"
      ]
    },
    {
      "cell_type": "code",
      "source": [
        "mnist = tf.keras.datasets.mnist\n",
        "(x_train, y_train), (x_test, y_test) = mnist.load_data()"
      ],
      "metadata": {
        "id": "qyNKehkWHs6n",
        "colab": {
          "base_uri": "https://localhost:8080/"
        },
        "outputId": "50fd2a23-0ddb-4e10-ae25-8736d178888e"
      },
      "execution_count": null,
      "outputs": [
        {
          "output_type": "stream",
          "name": "stdout",
          "text": [
            "Downloading data from https://storage.googleapis.com/tensorflow/tf-keras-datasets/mnist.npz\n",
            "11490434/11490434 [==============================] - 0s 0us/step\n"
          ]
        }
      ]
    },
    {
      "cell_type": "code",
      "source": [
        "print(x_train.shape, y_train.shape, x_test.shape, y_test.shape)"
      ],
      "metadata": {
        "colab": {
          "base_uri": "https://localhost:8080/"
        },
        "id": "Z2z0dHsDH0RM",
        "outputId": "88c6ccac-4ce5-4960-e7a6-adc9a7d594a6"
      },
      "execution_count": null,
      "outputs": [
        {
          "output_type": "stream",
          "name": "stdout",
          "text": [
            "(60000, 28, 28) (60000,) (10000, 28, 28) (10000,)\n"
          ]
        }
      ]
    },
    {
      "cell_type": "code",
      "source": [
        "x_train[0].shape"
      ],
      "metadata": {
        "id": "guCsgj8pbwB2",
        "outputId": "47cf1bdf-1c76-43f3-95dd-5e4363d26fb4",
        "colab": {
          "base_uri": "https://localhost:8080/"
        }
      },
      "execution_count": null,
      "outputs": [
        {
          "output_type": "execute_result",
          "data": {
            "text/plain": [
              "(28, 28)"
            ]
          },
          "metadata": {},
          "execution_count": 4
        }
      ]
    },
    {
      "cell_type": "markdown",
      "source": [
        "# **Visualizing the Images**"
      ],
      "metadata": {
        "id": "Z15Wer7cQFaa"
      }
    },
    {
      "cell_type": "code",
      "source": [
        "plt.figure(figsize=(3, 3))\n",
        "plt.imshow(x_train[0], cmap=\"gray\")\n",
        "plt.title(y_train[0])\n",
        "plt.axis(False);"
      ],
      "metadata": {
        "colab": {
          "base_uri": "https://localhost:8080/",
          "height": 290
        },
        "id": "baMNbDjYQZGz",
        "outputId": "8806718e-7909-4f80-a3fd-1d18b8215c45"
      },
      "execution_count": null,
      "outputs": [
        {
          "output_type": "display_data",
          "data": {
            "text/plain": [
              "<Figure size 300x300 with 1 Axes>"
            ],
            "image/png": "[encoded data removed]"
          },
          "metadata": {}
        }
      ]
    },
    {
      "cell_type": "markdown",
      "source": [
        "# **Building the model**\n",
        "\n"
      ],
      "metadata": {
        "id": "u-gH4KTPSuWX"
      }
    },
    {
      "cell_type": "markdown",
      "source": [
        "1. Normalizing Our Data\n"
      ],
      "metadata": {
        "id": "CoLFthiNTxse"
      }
    },
    {
      "cell_type": "code",
      "source": [
        "x_train = tf.keras.utils.normalize(x_train)\n",
        "x_test = tf.keras.utils.normalize(x_test)"
      ],
      "metadata": {
        "id": "hsINECukaIJp"
      },
      "execution_count": null,
      "outputs": []
    },
    {
      "cell_type": "markdown",
      "source": [
        "2. Building The Neural Network\n"
      ],
      "metadata": {
        "id": "T--E8c0DOYLv"
      }
    },
    {
      "cell_type": "code",
      "source": [
        "model = tf.keras.models.Sequential()\n",
        "\n",
        "model.add(tf.keras.layers.Flatten(input_shape=(28,28)))\n",
        "model.add(tf.keras.layers.Dense(units=128, activation=tf.nn.relu))\n",
        "model.add(tf.keras.layers.Dense(units=128, activation=tf.nn.relu))\n",
        "model.add(tf.keras.layers.Dense(units=10, activation=tf.nn.softmax))"
      ],
      "metadata": {
        "id": "2QKC12ZQOevC"
      },
      "execution_count": null,
      "outputs": []
    },
    {
      "cell_type": "code",
      "source": [
        "model.compile(optimizer='adam', loss='sparse_categorical_crossentropy', metrics=['accuracy'])"
      ],
      "metadata": {
        "id": "eodvx-AHQOD3"
      },
      "execution_count": null,
      "outputs": []
    },
    {
      "cell_type": "markdown",
      "source": [
        "3. Training And Testing\n"
      ],
      "metadata": {
        "id": "LswLvUlIQufE"
      }
    },
    {
      "cell_type": "code",
      "source": [
        "model.fit(x_train, y_train, epochs=3)"
      ],
      "metadata": {
        "colab": {
          "base_uri": "https://localhost:8080/"
        },
        "id": "3bf6AoJWQ0By",
        "outputId": "3f1f3f55-75cd-4921-9d8f-977b265f06a7"
      },
      "execution_count": null,
      "outputs": [
        {
          "output_type": "stream",
          "name": "stdout",
          "text": [
            "Epoch 1/3\n",
            "1875/1875 [==============================] - 9s 4ms/step - loss: 0.2685 - accuracy: 0.9197\n",
            "Epoch 2/3\n",
            "1875/1875 [==============================] - 8s 4ms/step - loss: 0.1130 - accuracy: 0.9657\n",
            "Epoch 3/3\n",
            "1875/1875 [==============================] - 9s 5ms/step - loss: 0.0778 - accuracy: 0.9756\n"
          ]
        },
        {
          "output_type": "execute_result",
          "data": {
            "text/plain": [
              "<keras.callbacks.History at 0x7fad6f0498d0>"
            ]
          },
          "metadata": {},
          "execution_count": 8
        }
      ]
    },
    {
      "cell_type": "code",
      "source": [
        "loss, accuracy = model.evaluate(x_test, y_test)\n",
        "print(loss)\n",
        "print(accuracy)"
      ],
      "metadata": {
        "colab": {
          "base_uri": "https://localhost:8080/"
        },
        "id": "k-NM_8lQRzOI",
        "outputId": "c1667db4-8eca-43d5-e313-98e710d56006"
      },
      "execution_count": null,
      "outputs": [
        {
          "output_type": "stream",
          "name": "stdout",
          "text": [
            "313/313 [==============================] - 1s 2ms/step - loss: 0.0989 - accuracy: 0.9698\n",
            "0.09891794621944427\n",
            "0.9697999954223633\n"
          ]
        }
      ]
    },
    {
      "cell_type": "markdown",
      "source": [
        "# **Testing the model**"
      ],
      "metadata": {
        "id": "MxcWWptSSXVj"
      }
    },
    {
      "cell_type": "code",
      "source": [
        "!git clone --depth 2 --branch master https://github.com/NeuralNine/handwritten-digits-recognition.git digits"
      ],
      "metadata": {
        "colab": {
          "base_uri": "https://localhost:8080/"
        },
        "id": "KdaG_Xm1NO3c",
        "outputId": "024dbbc9-b13d-420c-a11a-6db029e62d02"
      },
      "execution_count": null,
      "outputs": [
        {
          "output_type": "stream",
          "name": "stdout",
          "text": [
            "Cloning into 'digits'...\n",
            "remote: Enumerating objects: 28, done.\u001b[K\n",
            "remote: Counting objects: 100% (28/28), done.\u001b[K\n",
            "remote: Compressing objects: 100% (26/26), done.\u001b[K\n",
            "remote: Total 28 (delta 2), reused 28 (delta 2), pack-reused 0\u001b[K\n",
            "Receiving objects: 100% (28/28), 1.20 MiB | 1.51 MiB/s, done.\n",
            "Resolving deltas: 100% (2/2), done.\n"
          ]
        }
      ]
    },
    {
      "cell_type": "code",
      "source": [
        "import os\n",
        "import cv2"
      ],
      "metadata": {
        "id": "ogvx9HKqWhWY"
      },
      "execution_count": null,
      "outputs": []
    },
    {
      "cell_type": "code",
      "source": [
        "image_index = 1\n",
        "while os.path.isfile('digit{}.png'.format(image_index)):\n",
        "  try:\n",
        "    img = cv2.imread('digit{}.png'.format(image_index))[:,:,0]\n",
        "    img = np.invert(np.array([img]))\n",
        "    prediction = model.predict(img)\n",
        "    print('The number is probably a {}'.format(np.argmax(prediction)))\n",
        "    plt.imshow(img[0], cmap=plt.cm.binary)\n",
        "    plt.show\n",
        "  except:\n",
        "    print('Error reading image! Proceeding to the next one...')\n",
        "  finally:\n",
        "    image_index += 1"
      ],
      "metadata": {
        "colab": {
          "base_uri": "https://localhost:8080/",
          "height": 1000
        },
        "id": "Q7ITzMp1PDbM",
        "outputId": "7b1dfe10-1921-41c3-c02f-37e80cda3f56"
      },
      "execution_count": null,
      "outputs": [
        {
          "output_type": "stream",
          "name": "stdout",
          "text": [
            "1/1 [==============================] - 0s 106ms/step\n",
            "The number is probably a 7\n",
            "1/1 [==============================] - 0s 20ms/step\n",
            "The number is probably a 2\n",
            "1/1 [==============================] - 0s 20ms/step\n",
            "The number is probably a 9\n",
            "1/1 [==============================] - 0s 24ms/step\n",
            "The number is probably a 8\n",
            "1/1 [==============================] - 0s 24ms/step\n",
            "The number is probably a 5\n",
            "1/1 [==============================] - 0s 35ms/step\n",
            "The number is probably a 6\n",
            "1/1 [==============================] - 0s 24ms/step\n",
            "The number is probably a 1\n",
            "1/1 [==============================] - 0s 21ms/step\n",
            "The number is probably a 5\n",
            "1/1 [==============================] - 0s 23ms/step\n",
            "The number is probably a 7\n",
            "1/1 [==============================] - 0s 20ms/step\n",
            "The number is probably a 7\n",
            "1/1 [==============================] - 0s 31ms/step\n",
            "The number is probably a 0\n",
            "1/1 [==============================] - 0s 24ms/step\n",
            "The number is probably a 0\n",
            "1/1 [==============================] - 0s 23ms/step\n",
            "The number is probably a 3\n",
            "1/1 [==============================] - 0s 26ms/step\n",
            "The number is probably a 2\n",
            "1/1 [==============================] - 0s 27ms/step\n",
            "The number is probably a 1\n",
            "1/1 [==============================] - 0s 22ms/step\n",
            "The number is probably a 7\n",
            "1/1 [==============================] - 0s 26ms/step\n",
            "The number is probably a 4\n",
            "1/1 [==============================] - 0s 20ms/step\n",
            "The number is probably a 7\n",
            "1/1 [==============================] - 0s 28ms/step\n",
            "The number is probably a 4\n"
          ]
        },
        {
          "output_type": "display_data",
          "data": {
            "text/plain": [
              "<Figure size 640x480 with 1 Axes>"
            ],
            "image/png": "[encoded data removed]"
          },
          "metadata": {}
        }
      ]
    }
  ]
}